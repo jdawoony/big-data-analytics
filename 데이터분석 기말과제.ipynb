{
 "cells": [
  {
   "cell_type": "markdown",
   "id": "3fcb052e",
   "metadata": {},
   "source": [
    "### 국내 과자 시장과 소비 경향 분석\n",
    "\n",
    "<1-1. 크롤링> : 홈플러스 상품 리스트 크롤링 <br>\n",
    "<1-2. 전처리> : 상품 브랜드 분류, 상품 맛 정보 분류, 할인 상품 분류 및 할인률 추출 <br>\n",
    "<1-3. 분석> : 가장 판매량이 좋은 브랜드 선정, 가장 잘 판매되는 맛 분석, 할인률과 판매량의 상관관계 분석\n",
    "\n",
    "<2-1. 크롤링> : 네이버 블로그 키워드 데이터 수집 <br>\n",
    "<2-2. 전처리> : 빈도수 높은 데이터 분석 <br>\n",
    "<2-3. 분석> : 소비자 관심도 높은 키워드 분석\n",
    "\n",
    "<3-1. 크롤링> : TOP3제품 홈플러스 상품별 리뷰 크롤링 <br>\n",
    "<3-2. 전처리> : 형태소 분석, 긍정 부정 분류 <br>\n",
    "<3-3. 분석> : 소비자 반응 분석"
   ]
  },
  {
   "cell_type": "code",
   "execution_count": 26,
   "id": "aa836c29",
   "metadata": {},
   "outputs": [
    {
     "name": "stdout",
     "output_type": "stream",
     "text": [
      "1 페이지 출력완료\n",
      "2 페이지 출력완료\n",
      "3 페이지 출력완료\n",
      "4 페이지 출력완료\n",
      "5 페이지 출력완료\n",
      "6 페이지 출력완료\n",
      "7 페이지 출력완료\n",
      "8 페이지 출력완료\n",
      "9 페이지 출력완료\n",
      "10 페이지 출력완료\n",
      "11 페이지 출력완료\n",
      "12 페이지 출력완료\n",
      "13 페이지 출력완료\n",
      "14 페이지 출력완료\n",
      "15 페이지 출력완료\n",
      "16 페이지 출력완료\n",
      "17 페이지 출력완료\n",
      "18 페이지 출력완료\n",
      "19 페이지 출력완료\n",
      "20 페이지 출력완료\n",
      "21 페이지 출력완료\n",
      "22 페이지 출력완료\n",
      "23 페이지 출력완료\n",
      "24 페이지 출력완료\n",
      "25 페이지 출력완료\n",
      "26 페이지 출력완료\n",
      "27 페이지 출력완료\n",
      "28 페이지 출력완료\n",
      "29 페이지 출력완료\n",
      "30 페이지 출력완료\n",
      "31 페이지 출력완료\n",
      "32 페이지 출력완료\n",
      "33 페이지 출력완료\n",
      "34 페이지 출력완료\n",
      "35 페이지 출력완료\n",
      "36 페이지 출력완료\n",
      "37 페이지 출력완료\n",
      "38 페이지 출력완료\n",
      "39 페이지 출력완료\n",
      "40 페이지 출력완료\n",
      "41 페이지 출력완료\n",
      "42 페이지 출력완료\n",
      "43 페이지 출력완료\n",
      "44 페이지 출력완료\n",
      "45 페이지 출력완료\n",
      "46 페이지 출력완료\n",
      "47 페이지 출력완료\n",
      "48 페이지 출력완료\n",
      "49 페이지 출력완료\n",
      "50 페이지 출력완료\n",
      "51 페이지 출력완료\n",
      "52 페이지 출력완료\n",
      "53 페이지 출력완료\n",
      "54 페이지 출력완료\n",
      "55 페이지 출력완료\n",
      "56 페이지 출력완료\n",
      "57 페이지 출력완료\n",
      "58 페이지 출력완료\n",
      "59 페이지 출력완료\n",
      "60 페이지 출력완료\n",
      "61 페이지 출력완료\n",
      "62 페이지 출력완료\n",
      "63 페이지 출력완료\n",
      "64 페이지 출력완료\n",
      "65 페이지 출력완료\n",
      "66 페이지 출력완료\n",
      "67 페이지 출력완료\n",
      "68 페이지 출력완료\n",
      "69 페이지 출력완료\n",
      "70 페이지 출력완료\n",
      "71 페이지 출력완료\n",
      "72 페이지 출력완료\n",
      "73 페이지 출력완료\n",
      "74 페이지 출력완료\n",
      "75 페이지 출력완료\n",
      "76 페이지 출력완료\n",
      "77 페이지 출력완료\n",
      "78 페이지 출력완료\n",
      "79 페이지 출력완료\n",
      "80 페이지 출력완료\n",
      "81 페이지 출력완료\n",
      "82 페이지 출력완료\n",
      "83 페이지 출력완료\n",
      "84 페이지 출력완료\n",
      "85 페이지 출력완료\n",
      "86 페이지 출력완료\n",
      "87 페이지 출력완료\n",
      "88 페이지 출력완료\n",
      "89 페이지 출력완료\n",
      "90 페이지 출력완료\n",
      "91 페이지 출력완료\n",
      "92 페이지 출력완료\n",
      "93 페이지 출력완료\n",
      "94 페이지 출력완료\n",
      "95 페이지 출력완료\n",
      "96 페이지 출력완료\n",
      "97 페이지 출력완료\n",
      "98 페이지 출력완료\n",
      "99 페이지 출력완료\n",
      "100 페이지 출력완료\n",
      "101 페이지 출력완료\n",
      "102 페이지 출력완료\n",
      "103 페이지 출력완료\n",
      "104 페이지 출력완료\n",
      "105 페이지 출력완료\n",
      "106 페이지 출력완료\n",
      "107 페이지 출력완료\n",
      "108 페이지 출력완료\n",
      "109 페이지 출력완료\n",
      "110 페이지 출력완료\n",
      "111 페이지 출력완료\n",
      "112 페이지 출력완료\n",
      "113 페이지 출력완료\n",
      "114 페이지 출력완료\n",
      "115 페이지 출력완료\n",
      "116 페이지 출력완료\n",
      "117 페이지 출력완료\n",
      "118 페이지 출력완료\n",
      "119 페이지 출력완료\n",
      "120 페이지 출력완료\n",
      "121 페이지 출력완료\n",
      "122 페이지 출력완료\n",
      "123 페이지 출력완료\n",
      "124 페이지 출력완료\n",
      "125 페이지 출력완료\n",
      "126 페이지 출력완료\n",
      "127 페이지 출력완료\n",
      "128 페이지 출력완료\n",
      "129 페이지 출력완료\n",
      "130 페이지 출력완료\n",
      "131 페이지 출력완료\n",
      "132 페이지 출력완료\n",
      "133 페이지 출력완료\n",
      "134 페이지 출력완료\n",
      "135 페이지 출력완료\n",
      "136 페이지 출력완료\n",
      "137 페이지 출력완료\n",
      "138 페이지 출력완료\n",
      "139 페이지 출력완료\n",
      "140 페이지 출력완료\n",
      "141 페이지 출력완료\n",
      "142 페이지 출력완료\n",
      "143 페이지 출력완료\n",
      "144 페이지 출력완료\n",
      "145 페이지 출력완료\n",
      "146 페이지 출력완료\n",
      "147 페이지 출력완료\n",
      "148 페이지 출력완료\n",
      "149 페이지 출력완료\n",
      "150 페이지 출력완료\n",
      "151 페이지 출력완료\n",
      "152 페이지 출력완료\n",
      "153 페이지 출력완료\n",
      "154 페이지 출력완료\n",
      "155 페이지 출력완료\n",
      "156 페이지 출력완료\n",
      "157 페이지 출력완료\n",
      "158 페이지 출력완료\n",
      "159 페이지 출력완료\n",
      "160 페이지 출력완료\n",
      "161 페이지 출력완료\n",
      "162 페이지 출력완료\n",
      "163 페이지 출력완료\n",
      "164 페이지 출력완료\n",
      "165 페이지 출력완료\n",
      "166 페이지 출력완료\n",
      "167 페이지 출력완료\n",
      "168 페이지 출력완료\n",
      "169 페이지 출력완료\n",
      "170 페이지 출력완료\n",
      "171 페이지 출력완료\n",
      "172 페이지 출력완료\n",
      "173 페이지 출력완료\n",
      "174 페이지 출력완료\n",
      "175 페이지 출력완료\n",
      "176 페이지 출력완료\n",
      "177 페이지 출력완료\n",
      "178 페이지 출력완료\n",
      "179 페이지 출력완료\n",
      "180 페이지 출력완료\n",
      "181 페이지 출력완료\n",
      "182 페이지 출력완료\n",
      "183 페이지 출력완료\n",
      "184 페이지 출력완료\n",
      "185 페이지 출력완료\n",
      "186 페이지 출력완료\n",
      "187 페이지 출력완료\n",
      "188 페이지 출력완료\n",
      "189 페이지 출력완료\n",
      "190 페이지 출력완료\n",
      "191 페이지 출력완료\n",
      "192 페이지 출력완료\n",
      "193 페이지 출력완료\n",
      "194 페이지 출력완료\n",
      "195 페이지 출력완료\n",
      "196 페이지 출력완료\n",
      "197 페이지 출력완료\n",
      "198 페이지 출력완료\n",
      "199 페이지 출력완료\n",
      "200 페이지 출력완료\n",
      "201 페이지 출력완료\n",
      "202 페이지 출력완료\n",
      "203 페이지 출력완료\n",
      "204 페이지 출력완료\n",
      "205 페이지 출력완료\n",
      "206 페이지 출력완료\n",
      "207 페이지 출력완료\n",
      "208 페이지 출력완료\n",
      "209 페이지 출력완료\n",
      "210 페이지 출력완료\n",
      "211 페이지 출력완료\n",
      "212 페이지 출력완료\n",
      "213 페이지 출력완료\n",
      "214 페이지 출력완료\n",
      "215 페이지 출력완료\n",
      "216 페이지 출력완료\n",
      "217 페이지 출력완료\n",
      "218 페이지 출력완료\n",
      "219 페이지 출력완료\n",
      "220 페이지 출력완료\n",
      "221 페이지 출력완료\n",
      "222 페이지 출력완료\n",
      "223 페이지 출력완료\n",
      "224 페이지 출력완료\n",
      "225 페이지 출력완료\n",
      "226 페이지 출력완료\n",
      "227 페이지 출력완료\n",
      "228 페이지 출력완료\n",
      "229 페이지 출력완료\n",
      "230 페이지 출력완료\n",
      "231 페이지 출력완료\n",
      "No Next Button\n",
      "232 페이지 출력완료\n",
      "233 페이지 출력완료\n",
      "234 페이지 출력완료\n",
      "크롤링 끝 9324 개 데이터 수집 완료\n"
     ]
    }
   ],
   "source": [
    "from selenium import webdriver\n",
    "from selenium.webdriver.common.by import By\n",
    "from selenium.webdriver.chrome.service import Service\n",
    "from selenium.webdriver.support.ui import WebDriverWait\n",
    "from selenium.webdriver.support import expected_conditions as EC\n",
    "import numpy as np\n",
    "import time\n",
    "\n",
    "service = Service(executable_path=\"C:\\chromedriver\\chromedriver.exe\")\n",
    "options = webdriver.ChromeOptions()\n",
    "options.add_argument('--headless')\n",
    "options.add_argument('--no-sandbox')\n",
    "options.add_argument('--disable-dev-shm-usage')\n",
    "driver = webdriver.Chrome(service=service, options=options)\n",
    "\n",
    "url = 'https://front.homeplus.co.kr/list?categoryDepth=2&categoryId=200095' #과자/쿠키/파이\n",
    "driver.get(url)\n",
    "\n",
    "time.sleep(3)\n",
    "\n",
    "dataList = [] # 상품정보를 담을 리스트\n",
    "\n",
    "def readData():\n",
    "    # 데이터 읽어오기\n",
    "    elements = driver.find_elements(By.CSS_SELECTOR, '.unitItemBox')\n",
    "    for element in elements:\n",
    "        try:\n",
    "            snackName = element.find_element(By.CSS_SELECTOR, '.css-12cdo53-defaultStyle-Typography-ellips').text\n",
    "        except:\n",
    "            snackName = np.NaN\n",
    "        try:\n",
    "            price = element.find_element(By.CSS_SELECTOR, '.orgPrice > .priceValue').text\n",
    "        except:\n",
    "            price = np.NaN\n",
    "        try:\n",
    "            discountPrice = element.find_element(By.CSS_SELECTOR, '.price > .priceValue').text\n",
    "        except:\n",
    "            discountPrice = np.NaN\n",
    "        try:\n",
    "            monthly_purchase = element.find_element(By.XPATH, './/div[contains(@class, \"prodScoreWrap\")]/span[last()]').text\n",
    "        except:\n",
    "            monthly_purchase = np.NaN\n",
    "        data = {'상품명': snackName, '원가': price, '판매가':discountPrice, '한달판매량': monthly_purchase}\n",
    "        dataList.append(data)\n",
    "\n",
    "cnt = 0\n",
    "while True:\n",
    "    readData() # 데이터 읽기\n",
    "    next_page_buttons = driver.find_elements(By.CSS_SELECTOR, '.css-1ij9dss-number') # 현재 페이지를 제외한 페이징 버튼 수\n",
    "    try:\n",
    "        cnt = cnt + 1\n",
    "        print(cnt,'페이지 출력완료')\n",
    "        next_page_button = driver.find_element(By.CSS_SELECTOR, '.btnNext') # Next 버튼\n",
    "        driver.execute_script(\"arguments[0].click();\", next_page_button)\n",
    "        time.sleep(1)  # 페이지가 로드되기를 기다림\n",
    "    except Exception as e:\n",
    "        print('No Next Button')\n",
    "        for btn in next_page_buttons:\n",
    "            # Next 버튼이 삭제 된 후의 처리(남은 pagination 클릭)\n",
    "            cnt = cnt + 1\n",
    "            print(cnt,'페이지 출력완료')\n",
    "            driver.execute_script(\"arguments[0].click();\", btn)\n",
    "            time.sleep(1)  # 페이지가 로드되기를 기다림\n",
    "            readData() # 데이터 읽기\n",
    "        break\n",
    "        \n",
    "print('크롤링 끝', len(dataList), '개 데이터 수집 완료')"
   ]
  },
  {
   "cell_type": "code",
   "execution_count": 27,
   "id": "e219e05b",
   "metadata": {
    "scrolled": true
   },
   "outputs": [
    {
     "name": "stdout",
     "output_type": "stream",
     "text": [
      "csv 저장 완료\n"
     ]
    }
   ],
   "source": [
    "import pandas as pd\n",
    "\n",
    "df = pd.DataFrame(dataList)\n",
    "df.tail()\n",
    "\n",
    "df.to_csv('./snack_info.csv') # csv 저장\n",
    "print('csv 저장 완료')"
   ]
  },
  {
   "cell_type": "markdown",
   "id": "9be01c21",
   "metadata": {},
   "source": [
    "#### 판매량 분석을 위한 전처리"
   ]
  },
  {
   "cell_type": "code",
   "execution_count": 28,
   "id": "1afd7496",
   "metadata": {},
   "outputs": [
    {
     "name": "stdout",
     "output_type": "stream",
     "text": [
      "(9324, 4)\n"
     ]
    },
    {
     "data": {
      "text/html": [
       "<div>\n",
       "<style scoped>\n",
       "    .dataframe tbody tr th:only-of-type {\n",
       "        vertical-align: middle;\n",
       "    }\n",
       "\n",
       "    .dataframe tbody tr th {\n",
       "        vertical-align: top;\n",
       "    }\n",
       "\n",
       "    .dataframe thead th {\n",
       "        text-align: right;\n",
       "    }\n",
       "</style>\n",
       "<table border=\"1\" class=\"dataframe\">\n",
       "  <thead>\n",
       "    <tr style=\"text-align: right;\">\n",
       "      <th></th>\n",
       "      <th>상품명</th>\n",
       "      <th>원가</th>\n",
       "      <th>판매가</th>\n",
       "      <th>한달판매량</th>\n",
       "    </tr>\n",
       "  </thead>\n",
       "  <tbody>\n",
       "    <tr>\n",
       "      <th>0</th>\n",
       "      <td>해태 홈런볼 초코 41G*4입</td>\n",
       "      <td>5,440</td>\n",
       "      <td>4,350</td>\n",
       "      <td>월 31,937개 구매</td>\n",
       "    </tr>\n",
       "    <tr>\n",
       "      <th>1</th>\n",
       "      <td>롯데 칙촉 168G*2</td>\n",
       "      <td>NaN</td>\n",
       "      <td>6,990</td>\n",
       "      <td>월 9,153개 구매</td>\n",
       "    </tr>\n",
       "    <tr>\n",
       "      <th>2</th>\n",
       "      <td>홈플러스시그니처 달콤한 맛밤 60*4입(240G)</td>\n",
       "      <td>NaN</td>\n",
       "      <td>9,900</td>\n",
       "      <td>월 18,704개 구매</td>\n",
       "    </tr>\n",
       "    <tr>\n",
       "      <th>3</th>\n",
       "      <td>쌀과자 고소한맛 300G</td>\n",
       "      <td>NaN</td>\n",
       "      <td>5,490</td>\n",
       "      <td>월 22,893개 구매</td>\n",
       "    </tr>\n",
       "    <tr>\n",
       "      <th>4</th>\n",
       "      <td>홈플러스시그니처 황태킹 청양마요맛 75G</td>\n",
       "      <td>NaN</td>\n",
       "      <td>1,190</td>\n",
       "      <td>월 49,469개 구매</td>\n",
       "    </tr>\n",
       "  </tbody>\n",
       "</table>\n",
       "</div>"
      ],
      "text/plain": [
       "                           상품명     원가    판매가         한달판매량\n",
       "0             해태 홈런볼 초코 41G*4입  5,440  4,350  월 31,937개 구매\n",
       "1                 롯데 칙촉 168G*2    NaN  6,990   월 9,153개 구매\n",
       "2  홈플러스시그니처 달콤한 맛밤 60*4입(240G)    NaN  9,900  월 18,704개 구매\n",
       "3                쌀과자 고소한맛 300G    NaN  5,490  월 22,893개 구매\n",
       "4       홈플러스시그니처 황태킹 청양마요맛 75G    NaN  1,190  월 49,469개 구매"
      ]
     },
     "execution_count": 28,
     "metadata": {},
     "output_type": "execute_result"
    }
   ],
   "source": [
    "import re\n",
    "\n",
    "df = pd.read_csv('./snack_info.csv', encoding='utf-8', header=0, index_col=0)\n",
    "\n",
    "print(df.shape)\n",
    "df.head()"
   ]
  },
  {
   "cell_type": "code",
   "execution_count": 29,
   "id": "98caba1f",
   "metadata": {},
   "outputs": [
    {
     "data": {
      "text/html": [
       "<div>\n",
       "<style scoped>\n",
       "    .dataframe tbody tr th:only-of-type {\n",
       "        vertical-align: middle;\n",
       "    }\n",
       "\n",
       "    .dataframe tbody tr th {\n",
       "        vertical-align: top;\n",
       "    }\n",
       "\n",
       "    .dataframe thead th {\n",
       "        text-align: right;\n",
       "    }\n",
       "</style>\n",
       "<table border=\"1\" class=\"dataframe\">\n",
       "  <thead>\n",
       "    <tr style=\"text-align: right;\">\n",
       "      <th></th>\n",
       "      <th>상품명</th>\n",
       "      <th>한달판매량</th>\n",
       "    </tr>\n",
       "  </thead>\n",
       "  <tbody>\n",
       "    <tr>\n",
       "      <th>0</th>\n",
       "      <td>해태 홈런볼 초코 41G*4입</td>\n",
       "      <td>월 31,937개 구매</td>\n",
       "    </tr>\n",
       "    <tr>\n",
       "      <th>1</th>\n",
       "      <td>롯데 칙촉 168G*2</td>\n",
       "      <td>월 9,153개 구매</td>\n",
       "    </tr>\n",
       "    <tr>\n",
       "      <th>2</th>\n",
       "      <td>홈플러스시그니처 달콤한 맛밤 60*4입(240G)</td>\n",
       "      <td>월 18,704개 구매</td>\n",
       "    </tr>\n",
       "    <tr>\n",
       "      <th>3</th>\n",
       "      <td>쌀과자 고소한맛 300G</td>\n",
       "      <td>월 22,893개 구매</td>\n",
       "    </tr>\n",
       "    <tr>\n",
       "      <th>4</th>\n",
       "      <td>홈플러스시그니처 황태킹 청양마요맛 75G</td>\n",
       "      <td>월 49,469개 구매</td>\n",
       "    </tr>\n",
       "  </tbody>\n",
       "</table>\n",
       "</div>"
      ],
      "text/plain": [
       "                           상품명         한달판매량\n",
       "0             해태 홈런볼 초코 41G*4입  월 31,937개 구매\n",
       "1                 롯데 칙촉 168G*2   월 9,153개 구매\n",
       "2  홈플러스시그니처 달콤한 맛밤 60*4입(240G)  월 18,704개 구매\n",
       "3                쌀과자 고소한맛 300G  월 22,893개 구매\n",
       "4       홈플러스시그니처 황태킹 청양마요맛 75G  월 49,469개 구매"
      ]
     },
     "execution_count": 29,
     "metadata": {},
     "output_type": "execute_result"
    }
   ],
   "source": [
    "# 불필요한 데이터 제거\n",
    "df.drop(labels=['원가', '판매가'],axis=1, inplace=True)\n",
    "df['상품명'].dropna(inplace=True)\n",
    "df['한달판매량'].dropna(inplace=True)\n",
    "df.head()"
   ]
  },
  {
   "cell_type": "code",
   "execution_count": 30,
   "id": "4cced825",
   "metadata": {},
   "outputs": [
    {
     "data": {
      "text/html": [
       "<div>\n",
       "<style scoped>\n",
       "    .dataframe tbody tr th:only-of-type {\n",
       "        vertical-align: middle;\n",
       "    }\n",
       "\n",
       "    .dataframe tbody tr th {\n",
       "        vertical-align: top;\n",
       "    }\n",
       "\n",
       "    .dataframe thead th {\n",
       "        text-align: right;\n",
       "    }\n",
       "</style>\n",
       "<table border=\"1\" class=\"dataframe\">\n",
       "  <thead>\n",
       "    <tr style=\"text-align: right;\">\n",
       "      <th></th>\n",
       "      <th>상품명</th>\n",
       "      <th>한달판매량</th>\n",
       "    </tr>\n",
       "  </thead>\n",
       "  <tbody>\n",
       "    <tr>\n",
       "      <th>0</th>\n",
       "      <td>해태 홈런볼 초코 입</td>\n",
       "      <td>31937</td>\n",
       "    </tr>\n",
       "    <tr>\n",
       "      <th>1</th>\n",
       "      <td>롯데 칙촉</td>\n",
       "      <td>9153</td>\n",
       "    </tr>\n",
       "    <tr>\n",
       "      <th>2</th>\n",
       "      <td>홈플러스시그니처 달콤한 맛밤 입</td>\n",
       "      <td>18704</td>\n",
       "    </tr>\n",
       "    <tr>\n",
       "      <th>3</th>\n",
       "      <td>쌀과자 고소한맛</td>\n",
       "      <td>22893</td>\n",
       "    </tr>\n",
       "    <tr>\n",
       "      <th>4</th>\n",
       "      <td>홈플러스시그니처 황태킹 청양마요맛</td>\n",
       "      <td>49469</td>\n",
       "    </tr>\n",
       "    <tr>\n",
       "      <th>5</th>\n",
       "      <td>쌀과자 달콤한맛</td>\n",
       "      <td>16061</td>\n",
       "    </tr>\n",
       "    <tr>\n",
       "      <th>6</th>\n",
       "      <td>해태 오예스 미니 쿠키앤크림</td>\n",
       "      <td>36408</td>\n",
       "    </tr>\n",
       "    <tr>\n",
       "      <th>7</th>\n",
       "      <td>해태 테라 생생감자칩</td>\n",
       "      <td>23033</td>\n",
       "    </tr>\n",
       "    <tr>\n",
       "      <th>8</th>\n",
       "      <td>롯데 빼빼로 아몬드</td>\n",
       "      <td>9248</td>\n",
       "    </tr>\n",
       "    <tr>\n",
       "      <th>9</th>\n",
       "      <td>해태 버터링</td>\n",
       "      <td>11620</td>\n",
       "    </tr>\n",
       "  </tbody>\n",
       "</table>\n",
       "</div>"
      ],
      "text/plain": [
       "                   상품명  한달판매량\n",
       "0          해태 홈런볼 초코 입  31937\n",
       "1               롯데 칙촉    9153\n",
       "2    홈플러스시그니처 달콤한 맛밤 입  18704\n",
       "3            쌀과자 고소한맛   22893\n",
       "4  홈플러스시그니처 황태킹 청양마요맛   49469\n",
       "5            쌀과자 달콤한맛   16061\n",
       "6     해태 오예스 미니 쿠키앤크림   36408\n",
       "7         해태 테라 생생감자칩   23033\n",
       "8          롯데 빼빼로 아몬드    9248\n",
       "9              해태 버터링   11620"
      ]
     },
     "execution_count": 30,
     "metadata": {},
     "output_type": "execute_result"
    }
   ],
   "source": [
    "# 텍스트 정제 함수 : 한글 이외의 문자는 전부 제거\n",
    "def text_cleaning(text):\n",
    "    # 한글의 정규표현식으로 한글만 추출\n",
    "    hangul = re.compile('[^ ㄱ-ㅣ가-힣]+')\n",
    "    result = hangul.sub('', text)\n",
    "    return result\n",
    "\n",
    "# 숫자 정제 함수 : 숫자 이외의 문자는 전부 제거\n",
    "def num_cleaning(text):\n",
    "    if pd.isna(text):  # NaN 값이면 0으로 대체\n",
    "        return 0\n",
    "    else:\\\n",
    "        # 숫자 정규표현식으로 숫자만 추출\n",
    "        numbers = re.compile('[^0-9]+')\n",
    "        result = numbers.sub('', text)\n",
    "        return result\n",
    "\n",
    "# 함수를 적용하여 상품명에서 한글만 추출\n",
    "df['상품명'] = df['상품명'].apply(lambda x: text_cleaning(x))\n",
    "df['한달판매량'] = df['한달판매량'].apply(lambda x: num_cleaning(x))\n",
    "\n",
    "df.head(10)"
   ]
  },
  {
   "cell_type": "code",
   "execution_count": 31,
   "id": "395ce4d0",
   "metadata": {},
   "outputs": [
    {
     "data": {
      "text/html": [
       "<div>\n",
       "<style scoped>\n",
       "    .dataframe tbody tr th:only-of-type {\n",
       "        vertical-align: middle;\n",
       "    }\n",
       "\n",
       "    .dataframe tbody tr th {\n",
       "        vertical-align: top;\n",
       "    }\n",
       "\n",
       "    .dataframe thead th {\n",
       "        text-align: right;\n",
       "    }\n",
       "</style>\n",
       "<table border=\"1\" class=\"dataframe\">\n",
       "  <thead>\n",
       "    <tr style=\"text-align: right;\">\n",
       "      <th></th>\n",
       "      <th>상품명</th>\n",
       "      <th>한달판매량</th>\n",
       "    </tr>\n",
       "  </thead>\n",
       "  <tbody>\n",
       "    <tr>\n",
       "      <th>0</th>\n",
       "      <td>해태 홈런볼 초코 입</td>\n",
       "      <td>31937</td>\n",
       "    </tr>\n",
       "    <tr>\n",
       "      <th>1</th>\n",
       "      <td>롯데 칙촉</td>\n",
       "      <td>9153</td>\n",
       "    </tr>\n",
       "    <tr>\n",
       "      <th>6</th>\n",
       "      <td>해태 오예스 미니 쿠키앤크림</td>\n",
       "      <td>36408</td>\n",
       "    </tr>\n",
       "    <tr>\n",
       "      <th>7</th>\n",
       "      <td>해태 테라 생생감자칩</td>\n",
       "      <td>23033</td>\n",
       "    </tr>\n",
       "    <tr>\n",
       "      <th>8</th>\n",
       "      <td>롯데 빼빼로 아몬드</td>\n",
       "      <td>9248</td>\n",
       "    </tr>\n",
       "    <tr>\n",
       "      <th>9</th>\n",
       "      <td>해태 버터링</td>\n",
       "      <td>11620</td>\n",
       "    </tr>\n",
       "    <tr>\n",
       "      <th>10</th>\n",
       "      <td>해태 오예스</td>\n",
       "      <td>12324</td>\n",
       "    </tr>\n",
       "    <tr>\n",
       "      <th>14</th>\n",
       "      <td>해태 에이스</td>\n",
       "      <td>15875</td>\n",
       "    </tr>\n",
       "    <tr>\n",
       "      <th>16</th>\n",
       "      <td>해태 허니버터칩</td>\n",
       "      <td>50130</td>\n",
       "    </tr>\n",
       "    <tr>\n",
       "      <th>17</th>\n",
       "      <td>크라운 버터와플</td>\n",
       "      <td>11902</td>\n",
       "    </tr>\n",
       "  </tbody>\n",
       "</table>\n",
       "</div>"
      ],
      "text/plain": [
       "                 상품명  한달판매량\n",
       "0        해태 홈런볼 초코 입  31937\n",
       "1             롯데 칙촉    9153\n",
       "6   해태 오예스 미니 쿠키앤크림   36408\n",
       "7       해태 테라 생생감자칩   23033\n",
       "8        롯데 빼빼로 아몬드    9248\n",
       "9            해태 버터링   11620\n",
       "10           해태 오예스   12324\n",
       "14           해태 에이스   15875\n",
       "16         해태 허니버터칩   50130\n",
       "17         크라운 버터와플   11902"
      ]
     },
     "execution_count": 31,
     "metadata": {},
     "output_type": "execute_result"
    }
   ],
   "source": [
    "brands = ['해태', '농심', '오리온', '롯데', '크라운', '삼양', '빙그레', '동서'] # 국내 과자 브랜드명\n",
    "\n",
    "# 특정 문자열이 포함되지 않은 행을 제거\n",
    "filtered_dataList = df[df['상품명'].str.contains('|'.join(brands))]\n",
    "\n",
    "filtered_dataList.head(10)"
   ]
  },
  {
   "cell_type": "code",
   "execution_count": 32,
   "id": "77c36881",
   "metadata": {},
   "outputs": [],
   "source": [
    "filtered_dataList = filtered_dataList.reset_index() # 인덱스 재정렬"
   ]
  },
  {
   "cell_type": "code",
   "execution_count": 33,
   "id": "9027bda8",
   "metadata": {},
   "outputs": [
    {
     "data": {
      "text/html": [
       "<div>\n",
       "<style scoped>\n",
       "    .dataframe tbody tr th:only-of-type {\n",
       "        vertical-align: middle;\n",
       "    }\n",
       "\n",
       "    .dataframe tbody tr th {\n",
       "        vertical-align: top;\n",
       "    }\n",
       "\n",
       "    .dataframe thead th {\n",
       "        text-align: right;\n",
       "    }\n",
       "</style>\n",
       "<table border=\"1\" class=\"dataframe\">\n",
       "  <thead>\n",
       "    <tr style=\"text-align: right;\">\n",
       "      <th></th>\n",
       "      <th>판매량</th>\n",
       "    </tr>\n",
       "  </thead>\n",
       "  <tbody>\n",
       "    <tr>\n",
       "      <th>오리온</th>\n",
       "      <td>519834</td>\n",
       "    </tr>\n",
       "    <tr>\n",
       "      <th>해태</th>\n",
       "      <td>426300</td>\n",
       "    </tr>\n",
       "    <tr>\n",
       "      <th>롯데</th>\n",
       "      <td>328027</td>\n",
       "    </tr>\n",
       "    <tr>\n",
       "      <th>크라운</th>\n",
       "      <td>240900</td>\n",
       "    </tr>\n",
       "    <tr>\n",
       "      <th>농심</th>\n",
       "      <td>163886</td>\n",
       "    </tr>\n",
       "  </tbody>\n",
       "</table>\n",
       "</div>"
      ],
      "text/plain": [
       "        판매량\n",
       "오리온  519834\n",
       "해태   426300\n",
       "롯데   328027\n",
       "크라운  240900\n",
       "농심   163886"
      ]
     },
     "execution_count": 33,
     "metadata": {},
     "output_type": "execute_result"
    }
   ],
   "source": [
    "import pandas as pd\n",
    "# 브랜드별 판매량 취합\n",
    "brand_sales = {brand: filtered_dataList[filtered_dataList['상품명'].str.contains(brand)]['한달판매량'].astype(int).sum() for brand in brands}\n",
    "\n",
    "brand_sales_df = pd.DataFrame(brand_sales,index=['판매량'])\n",
    "brand_sales_df = brand_sales_df.T\n",
    "brand_sales_df.sort_values(by='판매량', ascending=False, inplace=True)\n",
    "brand_sales_df.head()"
   ]
  },
  {
   "cell_type": "code",
   "execution_count": 34,
   "id": "688cde0d",
   "metadata": {
    "scrolled": true
   },
   "outputs": [
    {
     "data": {
      "application/vnd.plotly.v1+json": {
       "config": {
        "plotlyServerURL": "https://plot.ly"
       },
       "data": [
        {
         "domain": {
          "x": [
           0,
           1
          ],
          "y": [
           0,
           1
          ]
         },
         "hovertemplate": "index=%{label}<br>판매량=%{value}<extra></extra>",
         "labels": [
          "오리온",
          "해태",
          "롯데",
          "크라운",
          "농심",
          "삼양",
          "동서",
          "빙그레"
         ],
         "legendgroup": "",
         "name": "",
         "showlegend": true,
         "type": "pie",
         "values": [
          519834,
          426300,
          328027,
          240900,
          163886,
          37643,
          23079,
          5589
         ]
        }
       ],
       "layout": {
        "legend": {
         "tracegroupgap": 0
        },
        "template": {
         "data": {
          "bar": [
           {
            "error_x": {
             "color": "#2a3f5f"
            },
            "error_y": {
             "color": "#2a3f5f"
            },
            "marker": {
             "line": {
              "color": "#E5ECF6",
              "width": 0.5
             },
             "pattern": {
              "fillmode": "overlay",
              "size": 10,
              "solidity": 0.2
             }
            },
            "type": "bar"
           }
          ],
          "barpolar": [
           {
            "marker": {
             "line": {
              "color": "#E5ECF6",
              "width": 0.5
             },
             "pattern": {
              "fillmode": "overlay",
              "size": 10,
              "solidity": 0.2
             }
            },
            "type": "barpolar"
           }
          ],
          "carpet": [
           {
            "aaxis": {
             "endlinecolor": "#2a3f5f",
             "gridcolor": "white",
             "linecolor": "white",
             "minorgridcolor": "white",
             "startlinecolor": "#2a3f5f"
            },
            "baxis": {
             "endlinecolor": "#2a3f5f",
             "gridcolor": "white",
             "linecolor": "white",
             "minorgridcolor": "white",
             "startlinecolor": "#2a3f5f"
            },
            "type": "carpet"
           }
          ],
          "choropleth": [
           {
            "colorbar": {
             "outlinewidth": 0,
             "ticks": ""
            },
            "type": "choropleth"
           }
          ],
          "contour": [
           {
            "colorbar": {
             "outlinewidth": 0,
             "ticks": ""
            },
            "colorscale": [
             [
              0,
              "#0d0887"
             ],
             [
              0.1111111111111111,
              "#46039f"
             ],
             [
              0.2222222222222222,
              "#7201a8"
             ],
             [
              0.3333333333333333,
              "#9c179e"
             ],
             [
              0.4444444444444444,
              "#bd3786"
             ],
             [
              0.5555555555555556,
              "#d8576b"
             ],
             [
              0.6666666666666666,
              "#ed7953"
             ],
             [
              0.7777777777777778,
              "#fb9f3a"
             ],
             [
              0.8888888888888888,
              "#fdca26"
             ],
             [
              1,
              "#f0f921"
             ]
            ],
            "type": "contour"
           }
          ],
          "contourcarpet": [
           {
            "colorbar": {
             "outlinewidth": 0,
             "ticks": ""
            },
            "type": "contourcarpet"
           }
          ],
          "heatmap": [
           {
            "colorbar": {
             "outlinewidth": 0,
             "ticks": ""
            },
            "colorscale": [
             [
              0,
              "#0d0887"
             ],
             [
              0.1111111111111111,
              "#46039f"
             ],
             [
              0.2222222222222222,
              "#7201a8"
             ],
             [
              0.3333333333333333,
              "#9c179e"
             ],
             [
              0.4444444444444444,
              "#bd3786"
             ],
             [
              0.5555555555555556,
              "#d8576b"
             ],
             [
              0.6666666666666666,
              "#ed7953"
             ],
             [
              0.7777777777777778,
              "#fb9f3a"
             ],
             [
              0.8888888888888888,
              "#fdca26"
             ],
             [
              1,
              "#f0f921"
             ]
            ],
            "type": "heatmap"
           }
          ],
          "heatmapgl": [
           {
            "colorbar": {
             "outlinewidth": 0,
             "ticks": ""
            },
            "colorscale": [
             [
              0,
              "#0d0887"
             ],
             [
              0.1111111111111111,
              "#46039f"
             ],
             [
              0.2222222222222222,
              "#7201a8"
             ],
             [
              0.3333333333333333,
              "#9c179e"
             ],
             [
              0.4444444444444444,
              "#bd3786"
             ],
             [
              0.5555555555555556,
              "#d8576b"
             ],
             [
              0.6666666666666666,
              "#ed7953"
             ],
             [
              0.7777777777777778,
              "#fb9f3a"
             ],
             [
              0.8888888888888888,
              "#fdca26"
             ],
             [
              1,
              "#f0f921"
             ]
            ],
            "type": "heatmapgl"
           }
          ],
          "histogram": [
           {
            "marker": {
             "pattern": {
              "fillmode": "overlay",
              "size": 10,
              "solidity": 0.2
             }
            },
            "type": "histogram"
           }
          ],
          "histogram2d": [
           {
            "colorbar": {
             "outlinewidth": 0,
             "ticks": ""
            },
            "colorscale": [
             [
              0,
              "#0d0887"
             ],
             [
              0.1111111111111111,
              "#46039f"
             ],
             [
              0.2222222222222222,
              "#7201a8"
             ],
             [
              0.3333333333333333,
              "#9c179e"
             ],
             [
              0.4444444444444444,
              "#bd3786"
             ],
             [
              0.5555555555555556,
              "#d8576b"
             ],
             [
              0.6666666666666666,
              "#ed7953"
             ],
             [
              0.7777777777777778,
              "#fb9f3a"
             ],
             [
              0.8888888888888888,
              "#fdca26"
             ],
             [
              1,
              "#f0f921"
             ]
            ],
            "type": "histogram2d"
           }
          ],
          "histogram2dcontour": [
           {
            "colorbar": {
             "outlinewidth": 0,
             "ticks": ""
            },
            "colorscale": [
             [
              0,
              "#0d0887"
             ],
             [
              0.1111111111111111,
              "#46039f"
             ],
             [
              0.2222222222222222,
              "#7201a8"
             ],
             [
              0.3333333333333333,
              "#9c179e"
             ],
             [
              0.4444444444444444,
              "#bd3786"
             ],
             [
              0.5555555555555556,
              "#d8576b"
             ],
             [
              0.6666666666666666,
              "#ed7953"
             ],
             [
              0.7777777777777778,
              "#fb9f3a"
             ],
             [
              0.8888888888888888,
              "#fdca26"
             ],
             [
              1,
              "#f0f921"
             ]
            ],
            "type": "histogram2dcontour"
           }
          ],
          "mesh3d": [
           {
            "colorbar": {
             "outlinewidth": 0,
             "ticks": ""
            },
            "type": "mesh3d"
           }
          ],
          "parcoords": [
           {
            "line": {
             "colorbar": {
              "outlinewidth": 0,
              "ticks": ""
             }
            },
            "type": "parcoords"
           }
          ],
          "pie": [
           {
            "automargin": true,
            "type": "pie"
           }
          ],
          "scatter": [
           {
            "fillpattern": {
             "fillmode": "overlay",
             "size": 10,
             "solidity": 0.2
            },
            "type": "scatter"
           }
          ],
          "scatter3d": [
           {
            "line": {
             "colorbar": {
              "outlinewidth": 0,
              "ticks": ""
             }
            },
            "marker": {
             "colorbar": {
              "outlinewidth": 0,
              "ticks": ""
             }
            },
            "type": "scatter3d"
           }
          ],
          "scattercarpet": [
           {
            "marker": {
             "colorbar": {
              "outlinewidth": 0,
              "ticks": ""
             }
            },
            "type": "scattercarpet"
           }
          ],
          "scattergeo": [
           {
            "marker": {
             "colorbar": {
              "outlinewidth": 0,
              "ticks": ""
             }
            },
            "type": "scattergeo"
           }
          ],
          "scattergl": [
           {
            "marker": {
             "colorbar": {
              "outlinewidth": 0,
              "ticks": ""
             }
            },
            "type": "scattergl"
           }
          ],
          "scattermapbox": [
           {
            "marker": {
             "colorbar": {
              "outlinewidth": 0,
              "ticks": ""
             }
            },
            "type": "scattermapbox"
           }
          ],
          "scatterpolar": [
           {
            "marker": {
             "colorbar": {
              "outlinewidth": 0,
              "ticks": ""
             }
            },
            "type": "scatterpolar"
           }
          ],
          "scatterpolargl": [
           {
            "marker": {
             "colorbar": {
              "outlinewidth": 0,
              "ticks": ""
             }
            },
            "type": "scatterpolargl"
           }
          ],
          "scatterternary": [
           {
            "marker": {
             "colorbar": {
              "outlinewidth": 0,
              "ticks": ""
             }
            },
            "type": "scatterternary"
           }
          ],
          "surface": [
           {
            "colorbar": {
             "outlinewidth": 0,
             "ticks": ""
            },
            "colorscale": [
             [
              0,
              "#0d0887"
             ],
             [
              0.1111111111111111,
              "#46039f"
             ],
             [
              0.2222222222222222,
              "#7201a8"
             ],
             [
              0.3333333333333333,
              "#9c179e"
             ],
             [
              0.4444444444444444,
              "#bd3786"
             ],
             [
              0.5555555555555556,
              "#d8576b"
             ],
             [
              0.6666666666666666,
              "#ed7953"
             ],
             [
              0.7777777777777778,
              "#fb9f3a"
             ],
             [
              0.8888888888888888,
              "#fdca26"
             ],
             [
              1,
              "#f0f921"
             ]
            ],
            "type": "surface"
           }
          ],
          "table": [
           {
            "cells": {
             "fill": {
              "color": "#EBF0F8"
             },
             "line": {
              "color": "white"
             }
            },
            "header": {
             "fill": {
              "color": "#C8D4E3"
             },
             "line": {
              "color": "white"
             }
            },
            "type": "table"
           }
          ]
         },
         "layout": {
          "annotationdefaults": {
           "arrowcolor": "#2a3f5f",
           "arrowhead": 0,
           "arrowwidth": 1
          },
          "autotypenumbers": "strict",
          "coloraxis": {
           "colorbar": {
            "outlinewidth": 0,
            "ticks": ""
           }
          },
          "colorscale": {
           "diverging": [
            [
             0,
             "#8e0152"
            ],
            [
             0.1,
             "#c51b7d"
            ],
            [
             0.2,
             "#de77ae"
            ],
            [
             0.3,
             "#f1b6da"
            ],
            [
             0.4,
             "#fde0ef"
            ],
            [
             0.5,
             "#f7f7f7"
            ],
            [
             0.6,
             "#e6f5d0"
            ],
            [
             0.7,
             "#b8e186"
            ],
            [
             0.8,
             "#7fbc41"
            ],
            [
             0.9,
             "#4d9221"
            ],
            [
             1,
             "#276419"
            ]
           ],
           "sequential": [
            [
             0,
             "#0d0887"
            ],
            [
             0.1111111111111111,
             "#46039f"
            ],
            [
             0.2222222222222222,
             "#7201a8"
            ],
            [
             0.3333333333333333,
             "#9c179e"
            ],
            [
             0.4444444444444444,
             "#bd3786"
            ],
            [
             0.5555555555555556,
             "#d8576b"
            ],
            [
             0.6666666666666666,
             "#ed7953"
            ],
            [
             0.7777777777777778,
             "#fb9f3a"
            ],
            [
             0.8888888888888888,
             "#fdca26"
            ],
            [
             1,
             "#f0f921"
            ]
           ],
           "sequentialminus": [
            [
             0,
             "#0d0887"
            ],
            [
             0.1111111111111111,
             "#46039f"
            ],
            [
             0.2222222222222222,
             "#7201a8"
            ],
            [
             0.3333333333333333,
             "#9c179e"
            ],
            [
             0.4444444444444444,
             "#bd3786"
            ],
            [
             0.5555555555555556,
             "#d8576b"
            ],
            [
             0.6666666666666666,
             "#ed7953"
            ],
            [
             0.7777777777777778,
             "#fb9f3a"
            ],
            [
             0.8888888888888888,
             "#fdca26"
            ],
            [
             1,
             "#f0f921"
            ]
           ]
          },
          "colorway": [
           "#636efa",
           "#EF553B",
           "#00cc96",
           "#ab63fa",
           "#FFA15A",
           "#19d3f3",
           "#FF6692",
           "#B6E880",
           "#FF97FF",
           "#FECB52"
          ],
          "font": {
           "color": "#2a3f5f"
          },
          "geo": {
           "bgcolor": "white",
           "lakecolor": "white",
           "landcolor": "#E5ECF6",
           "showlakes": true,
           "showland": true,
           "subunitcolor": "white"
          },
          "hoverlabel": {
           "align": "left"
          },
          "hovermode": "closest",
          "mapbox": {
           "style": "light"
          },
          "paper_bgcolor": "white",
          "plot_bgcolor": "#E5ECF6",
          "polar": {
           "angularaxis": {
            "gridcolor": "white",
            "linecolor": "white",
            "ticks": ""
           },
           "bgcolor": "#E5ECF6",
           "radialaxis": {
            "gridcolor": "white",
            "linecolor": "white",
            "ticks": ""
           }
          },
          "scene": {
           "xaxis": {
            "backgroundcolor": "#E5ECF6",
            "gridcolor": "white",
            "gridwidth": 2,
            "linecolor": "white",
            "showbackground": true,
            "ticks": "",
            "zerolinecolor": "white"
           },
           "yaxis": {
            "backgroundcolor": "#E5ECF6",
            "gridcolor": "white",
            "gridwidth": 2,
            "linecolor": "white",
            "showbackground": true,
            "ticks": "",
            "zerolinecolor": "white"
           },
           "zaxis": {
            "backgroundcolor": "#E5ECF6",
            "gridcolor": "white",
            "gridwidth": 2,
            "linecolor": "white",
            "showbackground": true,
            "ticks": "",
            "zerolinecolor": "white"
           }
          },
          "shapedefaults": {
           "line": {
            "color": "#2a3f5f"
           }
          },
          "ternary": {
           "aaxis": {
            "gridcolor": "white",
            "linecolor": "white",
            "ticks": ""
           },
           "baxis": {
            "gridcolor": "white",
            "linecolor": "white",
            "ticks": ""
           },
           "bgcolor": "#E5ECF6",
           "caxis": {
            "gridcolor": "white",
            "linecolor": "white",
            "ticks": ""
           }
          },
          "title": {
           "x": 0.05
          },
          "xaxis": {
           "automargin": true,
           "gridcolor": "white",
           "linecolor": "white",
           "ticks": "",
           "title": {
            "standoff": 15
           },
           "zerolinecolor": "white",
           "zerolinewidth": 2
          },
          "yaxis": {
           "automargin": true,
           "gridcolor": "white",
           "linecolor": "white",
           "ticks": "",
           "title": {
            "standoff": 15
           },
           "zerolinecolor": "white",
           "zerolinewidth": 2
          }
         }
        },
        "title": {
         "text": "브랜드별 판매량"
        }
       }
      },
      "text/html": [
       "<div>                            <div id=\"da582af6-f5ad-40ae-ad40-3ed5a737b0c1\" class=\"plotly-graph-div\" style=\"height:525px; width:100%;\"></div>            <script type=\"text/javascript\">                require([\"plotly\"], function(Plotly) {                    window.PLOTLYENV=window.PLOTLYENV || {};                                    if (document.getElementById(\"da582af6-f5ad-40ae-ad40-3ed5a737b0c1\")) {                    Plotly.newPlot(                        \"da582af6-f5ad-40ae-ad40-3ed5a737b0c1\",                        [{\"domain\":{\"x\":[0.0,1.0],\"y\":[0.0,1.0]},\"hovertemplate\":\"index=%{label}\\u003cbr\\u003e\\ud310\\ub9e4\\ub7c9=%{value}\\u003cextra\\u003e\\u003c\\u002fextra\\u003e\",\"labels\":[\"\\uc624\\ub9ac\\uc628\",\"\\ud574\\ud0dc\",\"\\ub86f\\ub370\",\"\\ud06c\\ub77c\\uc6b4\",\"\\ub18d\\uc2ec\",\"\\uc0bc\\uc591\",\"\\ub3d9\\uc11c\",\"\\ube59\\uadf8\\ub808\"],\"legendgroup\":\"\",\"name\":\"\",\"showlegend\":true,\"values\":[519834,426300,328027,240900,163886,37643,23079,5589],\"type\":\"pie\"}],                        {\"template\":{\"data\":{\"histogram2dcontour\":[{\"type\":\"histogram2dcontour\",\"colorbar\":{\"outlinewidth\":0,\"ticks\":\"\"},\"colorscale\":[[0.0,\"#0d0887\"],[0.1111111111111111,\"#46039f\"],[0.2222222222222222,\"#7201a8\"],[0.3333333333333333,\"#9c179e\"],[0.4444444444444444,\"#bd3786\"],[0.5555555555555556,\"#d8576b\"],[0.6666666666666666,\"#ed7953\"],[0.7777777777777778,\"#fb9f3a\"],[0.8888888888888888,\"#fdca26\"],[1.0,\"#f0f921\"]]}],\"choropleth\":[{\"type\":\"choropleth\",\"colorbar\":{\"outlinewidth\":0,\"ticks\":\"\"}}],\"histogram2d\":[{\"type\":\"histogram2d\",\"colorbar\":{\"outlinewidth\":0,\"ticks\":\"\"},\"colorscale\":[[0.0,\"#0d0887\"],[0.1111111111111111,\"#46039f\"],[0.2222222222222222,\"#7201a8\"],[0.3333333333333333,\"#9c179e\"],[0.4444444444444444,\"#bd3786\"],[0.5555555555555556,\"#d8576b\"],[0.6666666666666666,\"#ed7953\"],[0.7777777777777778,\"#fb9f3a\"],[0.8888888888888888,\"#fdca26\"],[1.0,\"#f0f921\"]]}],\"heatmap\":[{\"type\":\"heatmap\",\"colorbar\":{\"outlinewidth\":0,\"ticks\":\"\"},\"colorscale\":[[0.0,\"#0d0887\"],[0.1111111111111111,\"#46039f\"],[0.2222222222222222,\"#7201a8\"],[0.3333333333333333,\"#9c179e\"],[0.4444444444444444,\"#bd3786\"],[0.5555555555555556,\"#d8576b\"],[0.6666666666666666,\"#ed7953\"],[0.7777777777777778,\"#fb9f3a\"],[0.8888888888888888,\"#fdca26\"],[1.0,\"#f0f921\"]]}],\"heatmapgl\":[{\"type\":\"heatmapgl\",\"colorbar\":{\"outlinewidth\":0,\"ticks\":\"\"},\"colorscale\":[[0.0,\"#0d0887\"],[0.1111111111111111,\"#46039f\"],[0.2222222222222222,\"#7201a8\"],[0.3333333333333333,\"#9c179e\"],[0.4444444444444444,\"#bd3786\"],[0.5555555555555556,\"#d8576b\"],[0.6666666666666666,\"#ed7953\"],[0.7777777777777778,\"#fb9f3a\"],[0.8888888888888888,\"#fdca26\"],[1.0,\"#f0f921\"]]}],\"contourcarpet\":[{\"type\":\"contourcarpet\",\"colorbar\":{\"outlinewidth\":0,\"ticks\":\"\"}}],\"contour\":[{\"type\":\"contour\",\"colorbar\":{\"outlinewidth\":0,\"ticks\":\"\"},\"colorscale\":[[0.0,\"#0d0887\"],[0.1111111111111111,\"#46039f\"],[0.2222222222222222,\"#7201a8\"],[0.3333333333333333,\"#9c179e\"],[0.4444444444444444,\"#bd3786\"],[0.5555555555555556,\"#d8576b\"],[0.6666666666666666,\"#ed7953\"],[0.7777777777777778,\"#fb9f3a\"],[0.8888888888888888,\"#fdca26\"],[1.0,\"#f0f921\"]]}],\"surface\":[{\"type\":\"surface\",\"colorbar\":{\"outlinewidth\":0,\"ticks\":\"\"},\"colorscale\":[[0.0,\"#0d0887\"],[0.1111111111111111,\"#46039f\"],[0.2222222222222222,\"#7201a8\"],[0.3333333333333333,\"#9c179e\"],[0.4444444444444444,\"#bd3786\"],[0.5555555555555556,\"#d8576b\"],[0.6666666666666666,\"#ed7953\"],[0.7777777777777778,\"#fb9f3a\"],[0.8888888888888888,\"#fdca26\"],[1.0,\"#f0f921\"]]}],\"mesh3d\":[{\"type\":\"mesh3d\",\"colorbar\":{\"outlinewidth\":0,\"ticks\":\"\"}}],\"scatter\":[{\"fillpattern\":{\"fillmode\":\"overlay\",\"size\":10,\"solidity\":0.2},\"type\":\"scatter\"}],\"parcoords\":[{\"type\":\"parcoords\",\"line\":{\"colorbar\":{\"outlinewidth\":0,\"ticks\":\"\"}}}],\"scatterpolargl\":[{\"type\":\"scatterpolargl\",\"marker\":{\"colorbar\":{\"outlinewidth\":0,\"ticks\":\"\"}}}],\"bar\":[{\"error_x\":{\"color\":\"#2a3f5f\"},\"error_y\":{\"color\":\"#2a3f5f\"},\"marker\":{\"line\":{\"color\":\"#E5ECF6\",\"width\":0.5},\"pattern\":{\"fillmode\":\"overlay\",\"size\":10,\"solidity\":0.2}},\"type\":\"bar\"}],\"scattergeo\":[{\"type\":\"scattergeo\",\"marker\":{\"colorbar\":{\"outlinewidth\":0,\"ticks\":\"\"}}}],\"scatterpolar\":[{\"type\":\"scatterpolar\",\"marker\":{\"colorbar\":{\"outlinewidth\":0,\"ticks\":\"\"}}}],\"histogram\":[{\"marker\":{\"pattern\":{\"fillmode\":\"overlay\",\"size\":10,\"solidity\":0.2}},\"type\":\"histogram\"}],\"scattergl\":[{\"type\":\"scattergl\",\"marker\":{\"colorbar\":{\"outlinewidth\":0,\"ticks\":\"\"}}}],\"scatter3d\":[{\"type\":\"scatter3d\",\"line\":{\"colorbar\":{\"outlinewidth\":0,\"ticks\":\"\"}},\"marker\":{\"colorbar\":{\"outlinewidth\":0,\"ticks\":\"\"}}}],\"scattermapbox\":[{\"type\":\"scattermapbox\",\"marker\":{\"colorbar\":{\"outlinewidth\":0,\"ticks\":\"\"}}}],\"scatterternary\":[{\"type\":\"scatterternary\",\"marker\":{\"colorbar\":{\"outlinewidth\":0,\"ticks\":\"\"}}}],\"scattercarpet\":[{\"type\":\"scattercarpet\",\"marker\":{\"colorbar\":{\"outlinewidth\":0,\"ticks\":\"\"}}}],\"carpet\":[{\"aaxis\":{\"endlinecolor\":\"#2a3f5f\",\"gridcolor\":\"white\",\"linecolor\":\"white\",\"minorgridcolor\":\"white\",\"startlinecolor\":\"#2a3f5f\"},\"baxis\":{\"endlinecolor\":\"#2a3f5f\",\"gridcolor\":\"white\",\"linecolor\":\"white\",\"minorgridcolor\":\"white\",\"startlinecolor\":\"#2a3f5f\"},\"type\":\"carpet\"}],\"table\":[{\"cells\":{\"fill\":{\"color\":\"#EBF0F8\"},\"line\":{\"color\":\"white\"}},\"header\":{\"fill\":{\"color\":\"#C8D4E3\"},\"line\":{\"color\":\"white\"}},\"type\":\"table\"}],\"barpolar\":[{\"marker\":{\"line\":{\"color\":\"#E5ECF6\",\"width\":0.5},\"pattern\":{\"fillmode\":\"overlay\",\"size\":10,\"solidity\":0.2}},\"type\":\"barpolar\"}],\"pie\":[{\"automargin\":true,\"type\":\"pie\"}]},\"layout\":{\"autotypenumbers\":\"strict\",\"colorway\":[\"#636efa\",\"#EF553B\",\"#00cc96\",\"#ab63fa\",\"#FFA15A\",\"#19d3f3\",\"#FF6692\",\"#B6E880\",\"#FF97FF\",\"#FECB52\"],\"font\":{\"color\":\"#2a3f5f\"},\"hovermode\":\"closest\",\"hoverlabel\":{\"align\":\"left\"},\"paper_bgcolor\":\"white\",\"plot_bgcolor\":\"#E5ECF6\",\"polar\":{\"bgcolor\":\"#E5ECF6\",\"angularaxis\":{\"gridcolor\":\"white\",\"linecolor\":\"white\",\"ticks\":\"\"},\"radialaxis\":{\"gridcolor\":\"white\",\"linecolor\":\"white\",\"ticks\":\"\"}},\"ternary\":{\"bgcolor\":\"#E5ECF6\",\"aaxis\":{\"gridcolor\":\"white\",\"linecolor\":\"white\",\"ticks\":\"\"},\"baxis\":{\"gridcolor\":\"white\",\"linecolor\":\"white\",\"ticks\":\"\"},\"caxis\":{\"gridcolor\":\"white\",\"linecolor\":\"white\",\"ticks\":\"\"}},\"coloraxis\":{\"colorbar\":{\"outlinewidth\":0,\"ticks\":\"\"}},\"colorscale\":{\"sequential\":[[0.0,\"#0d0887\"],[0.1111111111111111,\"#46039f\"],[0.2222222222222222,\"#7201a8\"],[0.3333333333333333,\"#9c179e\"],[0.4444444444444444,\"#bd3786\"],[0.5555555555555556,\"#d8576b\"],[0.6666666666666666,\"#ed7953\"],[0.7777777777777778,\"#fb9f3a\"],[0.8888888888888888,\"#fdca26\"],[1.0,\"#f0f921\"]],\"sequentialminus\":[[0.0,\"#0d0887\"],[0.1111111111111111,\"#46039f\"],[0.2222222222222222,\"#7201a8\"],[0.3333333333333333,\"#9c179e\"],[0.4444444444444444,\"#bd3786\"],[0.5555555555555556,\"#d8576b\"],[0.6666666666666666,\"#ed7953\"],[0.7777777777777778,\"#fb9f3a\"],[0.8888888888888888,\"#fdca26\"],[1.0,\"#f0f921\"]],\"diverging\":[[0,\"#8e0152\"],[0.1,\"#c51b7d\"],[0.2,\"#de77ae\"],[0.3,\"#f1b6da\"],[0.4,\"#fde0ef\"],[0.5,\"#f7f7f7\"],[0.6,\"#e6f5d0\"],[0.7,\"#b8e186\"],[0.8,\"#7fbc41\"],[0.9,\"#4d9221\"],[1,\"#276419\"]]},\"xaxis\":{\"gridcolor\":\"white\",\"linecolor\":\"white\",\"ticks\":\"\",\"title\":{\"standoff\":15},\"zerolinecolor\":\"white\",\"automargin\":true,\"zerolinewidth\":2},\"yaxis\":{\"gridcolor\":\"white\",\"linecolor\":\"white\",\"ticks\":\"\",\"title\":{\"standoff\":15},\"zerolinecolor\":\"white\",\"automargin\":true,\"zerolinewidth\":2},\"scene\":{\"xaxis\":{\"backgroundcolor\":\"#E5ECF6\",\"gridcolor\":\"white\",\"linecolor\":\"white\",\"showbackground\":true,\"ticks\":\"\",\"zerolinecolor\":\"white\",\"gridwidth\":2},\"yaxis\":{\"backgroundcolor\":\"#E5ECF6\",\"gridcolor\":\"white\",\"linecolor\":\"white\",\"showbackground\":true,\"ticks\":\"\",\"zerolinecolor\":\"white\",\"gridwidth\":2},\"zaxis\":{\"backgroundcolor\":\"#E5ECF6\",\"gridcolor\":\"white\",\"linecolor\":\"white\",\"showbackground\":true,\"ticks\":\"\",\"zerolinecolor\":\"white\",\"gridwidth\":2}},\"shapedefaults\":{\"line\":{\"color\":\"#2a3f5f\"}},\"annotationdefaults\":{\"arrowcolor\":\"#2a3f5f\",\"arrowhead\":0,\"arrowwidth\":1},\"geo\":{\"bgcolor\":\"white\",\"landcolor\":\"#E5ECF6\",\"subunitcolor\":\"white\",\"showland\":true,\"showlakes\":true,\"lakecolor\":\"white\"},\"title\":{\"x\":0.05},\"mapbox\":{\"style\":\"light\"}}},\"legend\":{\"tracegroupgap\":0},\"title\":{\"text\":\"\\ube0c\\ub79c\\ub4dc\\ubcc4 \\ud310\\ub9e4\\ub7c9\"}},                        {\"responsive\": true}                    ).then(function(){\n",
       "                            \n",
       "var gd = document.getElementById('da582af6-f5ad-40ae-ad40-3ed5a737b0c1');\n",
       "var x = new MutationObserver(function (mutations, observer) {{\n",
       "        var display = window.getComputedStyle(gd).display;\n",
       "        if (!display || display === 'none') {{\n",
       "            console.log([gd, 'removed!']);\n",
       "            Plotly.purge(gd);\n",
       "            observer.disconnect();\n",
       "        }}\n",
       "}});\n",
       "\n",
       "// Listen for the removal of the full notebook cells\n",
       "var notebookContainer = gd.closest('#notebook-container');\n",
       "if (notebookContainer) {{\n",
       "    x.observe(notebookContainer, {childList: true});\n",
       "}}\n",
       "\n",
       "// Listen for the clearing of the current output cell\n",
       "var outputEl = gd.closest('.output');\n",
       "if (outputEl) {{\n",
       "    x.observe(outputEl, {childList: true});\n",
       "}}\n",
       "\n",
       "                        })                };                });            </script>        </div>"
      ]
     },
     "metadata": {},
     "output_type": "display_data"
    }
   ],
   "source": [
    "import plotly.express as px\n",
    "\n",
    "# 파이 차트 생성\n",
    "fig = px.pie(brand_sales_df, values='판매량', names=brand_sales_df.index, title='브랜드별 판매량')\n",
    "fig.show()"
   ]
  }
 ],
 "metadata": {
  "kernelspec": {
   "display_name": "Python 3 (ipykernel)",
   "language": "python",
   "name": "python3"
  },
  "language_info": {
   "codemirror_mode": {
    "name": "ipython",
    "version": 3
   },
   "file_extension": ".py",
   "mimetype": "text/x-python",
   "name": "python",
   "nbconvert_exporter": "python",
   "pygments_lexer": "ipython3",
   "version": "3.9.13"
  }
 },
 "nbformat": 4,
 "nbformat_minor": 5
}
